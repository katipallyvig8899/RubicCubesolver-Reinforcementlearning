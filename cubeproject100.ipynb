{
  "cells": [
    {
      "cell_type": "code",
      "execution_count": null,
      "metadata": {
        "colab": {
          "base_uri": "https://localhost:8080/"
        },
        "id": "XqCycgZrGXRu",
        "outputId": "db117fa9-2aa4-445e-8d4f-2679edc7e9fd"
      },
      "outputs": [
        {
          "output_type": "stream",
          "name": "stdout",
          "text": [
            "Mounted at /content/drive/\n"
          ]
        }
      ],
      "source": [
        "\n",
        "import zipfile\n",
        "from google.colab import drive\n",
        "\n",
        "drive.mount('/content/drive/')\n"
      ],
      "id": "XqCycgZrGXRu"
    },
    {
      "cell_type": "code",
      "execution_count": null,
      "metadata": {
        "id": "hPJ1IUH6GYhz"
      },
      "outputs": [],
      "source": [
        "zip_ref = zipfile.ZipFile(\"/content/drive/MyDrive/project/rubiks_cube-master-2.zip\", 'r')\n",
        "zip_ref.extractall(\"/content/sample_data\")\n",
        "zip_ref.close()"
      ],
      "id": "hPJ1IUH6GYhz"
    },
    {
      "cell_type": "code",
      "execution_count": null,
      "metadata": {
        "colab": {
          "base_uri": "https://localhost:8080/"
        },
        "id": "ECOaz9cwtGvJ",
        "outputId": "ad6a1e8a-cfbe-42ba-f1a4-85754663c2d1"
      },
      "outputs": [
        {
          "output_type": "stream",
          "name": "stdout",
          "text": [
            "Looking in indexes: https://pypi.org/simple, https://us-python.pkg.dev/colab-wheels/public/simple/\n",
            "Collecting pycuber\n",
            "  Downloading pycuber-0.2.2-py3-none-any.whl (23 kB)\n",
            "Installing collected packages: pycuber\n",
            "Successfully installed pycuber-0.2.2\n"
          ]
        }
      ],
      "source": [
        "!pip3 install pycuber"
      ],
      "id": "ECOaz9cwtGvJ"
    },
    {
      "cell_type": "code",
      "execution_count": null,
      "metadata": {
        "id": "Gmrkv8NdsNJE"
      },
      "outputs": [],
      "source": [
        "from collections import Counter\n",
        "from random import choice\n",
        "\n",
        "import numpy as np\n",
        "import pycuber as pc\n",
        "import keras.backend as K\n",
        "from keras.callbacks import ModelCheckpoint, EarlyStopping, ReduceLROnPlateau\n",
        "from keras.layers import Dense, Input, LeakyReLU\n",
        "from keras.models import Model\n",
        "from keras.optimizers import Adam\n",
        "from tqdm import tqdm"
      ],
      "id": "Gmrkv8NdsNJE"
    },
    {
      "cell_type": "code",
      "execution_count": null,
      "metadata": {
        "id": "KC_XCbJAsNMj"
      },
      "outputs": [],
      "source": [
        "action_map = {'F': 0, 'B': 1, 'U': 2, 'D': 3, 'L': 4, 'R': 5, \"F'\": 6, \"B'\": 7, \"U'\": 8, \"D'\": 9, \"L'\": 10, \"R'\": 11,\n",
        "              'F2': 12, 'B2': 13, 'U2': 14, 'D2': 15, 'L2': 16, 'R2': 17, \"F2'\": 18, \"B2'\": 19, \"U2'\": 20, \"D2'\": 21,\n",
        "              \"L2'\": 22, \"R2'\": 23}\n",
        "action_map_small = {'F': 0, 'B': 1, 'U': 2, 'D': 3, 'L': 4, 'R': 5, \"F'\": 6, \"B'\": 7, \"U'\": 8, \"D'\": 9, \"L'\": 10, \"R'\": 11}\n",
        "inv_action_map = {v: k for k, v in action_map.items()}\n"
      ],
      "id": "KC_XCbJAsNMj"
    },
    {
      "cell_type": "code",
      "execution_count": null,
      "metadata": {
        "colab": {
          "base_uri": "https://localhost:8080/"
        },
        "id": "mVK5C2DauD1b",
        "outputId": "417ac919-8220-4938-c74d-373e839a30a1"
      },
      "outputs": [
        {
          "output_type": "execute_result",
          "data": {
            "text/plain": [
              "{0: 'F',\n",
              " 1: 'B',\n",
              " 2: 'U',\n",
              " 3: 'D',\n",
              " 4: 'L',\n",
              " 5: 'R',\n",
              " 6: \"F'\",\n",
              " 7: \"B'\",\n",
              " 8: \"U'\",\n",
              " 9: \"D'\",\n",
              " 10: \"L'\",\n",
              " 11: \"R'\",\n",
              " 12: 'F2',\n",
              " 13: 'B2',\n",
              " 14: 'U2',\n",
              " 15: 'D2',\n",
              " 16: 'L2',\n",
              " 17: 'R2',\n",
              " 18: \"F2'\",\n",
              " 19: \"B2'\",\n",
              " 20: \"U2'\",\n",
              " 21: \"D2'\",\n",
              " 22: \"L2'\",\n",
              " 23: \"R2'\"}"
            ]
          },
          "metadata": {},
          "execution_count": 6
        }
      ],
      "source": [
        "inv_action_map"
      ],
      "id": "mVK5C2DauD1b"
    },
    {
      "cell_type": "code",
      "execution_count": null,
      "metadata": {
        "id": "Gb68r3NNsNPj"
      },
      "outputs": [],
      "source": [
        "color_map = {'green': 0, 'blue': 1, 'yellow': 2, 'red': 3, 'orange': 4, 'white': 5}\n",
        "\n",
        "color_list_map = {'green': [1, 0, 0, 0, 0, 0], 'blue': [0, 1, 0, 0, 0, 0], 'yellow': [0, 0, 1, 0, 0, 0],\n",
        "                  'red': [0, 0, 0, 1, 0, 0], 'orange': [0, 0, 0, 0, 1, 0], 'white': [0, 0, 0, 0, 0, 1]}"
      ],
      "id": "Gb68r3NNsNPj"
    },
    {
      "cell_type": "code",
      "execution_count": null,
      "metadata": {
        "id": "zLgsGZYasNTP"
      },
      "outputs": [],
      "source": [
        "def flatten(cube):\n",
        "    sides = [cube.F, cube.B, cube.U, cube.D, cube.L, cube.R]\n",
        "    flat = []\n",
        "    for x in sides:\n",
        "        for i in range(3):\n",
        "            for j in range(3):\n",
        "                flat.append(x[i][j].colour)\n",
        "    return flat"
      ],
      "id": "zLgsGZYasNTP"
    },
    {
      "cell_type": "code",
      "execution_count": null,
      "metadata": {
        "id": "R0yMGdzJsNWU"
      },
      "outputs": [],
      "source": [
        "def flatten_1d_b(cube):\n",
        "    sides = [cube.F, cube.B, cube.U, cube.D, cube.L, cube.R]\n",
        "    flat = []\n",
        "    for x in sides:\n",
        "        for i in range(3):\n",
        "            for j in range(3):\n",
        "                flat.extend(color_list_map[x[i][j].colour])\n",
        "    return flat"
      ],
      "id": "R0yMGdzJsNWU"
    },
    {
      "cell_type": "code",
      "execution_count": null,
      "metadata": {
        "id": "d0ytkHhYsNZV"
      },
      "outputs": [],
      "source": [
        "def order(data):\n",
        "    if len(data) <= 1:\n",
        "        return 0\n",
        "\n",
        "    counts = Counter()\n",
        "\n",
        "    for d in data:\n",
        "        counts[d] += 1\n",
        "\n",
        "    probs = [float(c) / len(data) for c in counts.values()]\n",
        "\n",
        "    return max(probs)"
      ],
      "id": "d0ytkHhYsNZV"
    },
    {
      "cell_type": "code",
      "execution_count": null,
      "metadata": {
        "id": "9oEF5g4YsNcd"
      },
      "outputs": [],
      "source": [
        "def perc_solved_cube(cube):\n",
        "    flat = flatten(cube)\n",
        "    perc_side = [order(flat[i:(i + 9)]) for i in range(0, 9 * 6, 9)]\n",
        "    return np.mean(perc_side)"
      ],
      "id": "9oEF5g4YsNcd"
    },
    {
      "cell_type": "code",
      "execution_count": null,
      "metadata": {
        "id": "BbKKNvePsNfV"
      },
      "outputs": [],
      "source": [
        "def gen_sample(n_steps=6):\n",
        "    cube = pc.Cube()\n",
        "\n",
        "    transformation = [choice(list(action_map.keys())) for _ in range(n_steps)]\n",
        "\n",
        "    my_formula = pc.Formula(transformation)\n",
        "\n",
        "    cube(my_formula)\n",
        "\n",
        "    my_formula.reverse()\n",
        "\n",
        "    sample_X = []\n",
        "    sample_Y = []\n",
        "    cubes = []\n",
        "\n",
        "    for s in my_formula:\n",
        "        sample_X.append(flatten_1d_b(cube))\n",
        "        sample_Y.append(action_map[s.name])\n",
        "        cubes.append(cube.copy())\n",
        "        cube(s.name)\n",
        "\n",
        "    return sample_X, sample_Y, cubes"
      ],
      "id": "BbKKNvePsNfV"
    },
    {
      "cell_type": "code",
      "execution_count": null,
      "metadata": {
        "id": "nmDdBAEm0NMU"
      },
      "outputs": [],
      "source": [
        "def gen_sample_small(n_steps=6):\n",
        "    cube = pc.Cube()\n",
        "\n",
        "    transformation = [choice(list(action_map_small.keys())) for _ in range(n_steps)]\n",
        "\n",
        "    my_formula = pc.Formula(transformation)\n",
        "\n",
        "    cube(my_formula)\n",
        "\n",
        "    my_formula.reverse()\n",
        "\n",
        "    sample_X = []\n",
        "    sample_Y = []\n",
        "    cubes = []\n",
        "\n",
        "    for s in my_formula:\n",
        "        sample_X.append(flatten_1d_b(cube))\n",
        "        sample_Y.append(action_map[s.name])\n",
        "        cubes.append(cube.copy())\n",
        "        cube(s.name)\n",
        "\n",
        "    return sample_X, sample_Y, cubes"
      ],
      "id": "nmDdBAEm0NMU"
    },
    {
      "cell_type": "code",
      "execution_count": null,
      "metadata": {
        "id": "jVsE-eJi0NPb"
      },
      "outputs": [],
      "source": [
        "def gen_sequence(n_steps=6):\n",
        "    cube = pc.Cube()\n",
        "\n",
        "    transformation = [choice(list(action_map_small.keys())) for _ in range(n_steps)]#25----randomness comes here \n",
        "\n",
        "    my_formula = pc.Formula(transformation)\n",
        "\n",
        "    cube(my_formula)\n",
        "\n",
        "    my_formula.reverse()\n",
        "\n",
        "    cubes = []\n",
        "    distance_to_solved = []\n",
        "\n",
        "    for i, s in enumerate(my_formula):\n",
        "        cubes.append(cube.copy())\n",
        "        cube(s.name)\n",
        "        distance_to_solved.append(n_steps-i)#25-i\n",
        "\n",
        "    return cubes, distance_to_solved"
      ],
      "id": "jVsE-eJi0NPb"
    },
    {
      "cell_type": "code",
      "execution_count": null,
      "metadata": {
        "id": "zj3Y48ic0NSc"
      },
      "outputs": [],
      "source": [
        "def get_all_possible_actions_cube_small(cube):\n",
        "\n",
        "    flat_cubes = []\n",
        "    rewards = []\n",
        "\n",
        "    for a in action_map_small:\n",
        "        cube_copy = cube.copy()\n",
        "        cube_copy = cube_copy(a)\n",
        "        flat_cubes.append(flatten_1d_b(cube_copy))\n",
        "        rewards.append(2*int(perc_solved_cube(cube_copy)>0.99)-1)\n",
        "\n",
        "    return flat_cubes, rewards\n"
      ],
      "id": "zj3Y48ic0NSc"
    },
    {
      "cell_type": "code",
      "execution_count": null,
      "metadata": {
        "id": "cCBZDVrZ0NVV"
      },
      "outputs": [],
      "source": [
        "def chunker(seq, size):\n",
        "    return (seq[pos:pos + size] for pos in range(0, len(seq), size))"
      ],
      "id": "cCBZDVrZ0NVV"
    },
    {
      "cell_type": "code",
      "execution_count": null,
      "metadata": {
        "id": "PpasE4LMD_Vt"
      },
      "outputs": [],
      "source": [
        "def acc(y_true, y_pred):\n",
        "    return K.cast(K.equal(K.max(y_true, axis=-1),\n",
        "                          K.cast(K.argmax(y_pred, axis=-1), K.floatx())),\n",
        "                  K.floatx())\n",
        "\n",
        "\n",
        "def get_model(lr=0.0001):\n",
        "    input1 = Input((324,))\n",
        "\n",
        "    d1 = Dense(1024)\n",
        "    d2 = Dense(1024)\n",
        "    d3 = Dense(1024)\n",
        "\n",
        "    d4 = Dense(50)\n",
        "\n",
        "    x1 = d1(input1)\n",
        "    x1 = LeakyReLU()(x1)\n",
        "    x1 = d2(x1)\n",
        "    x1 = LeakyReLU()(x1)\n",
        "    x1 = d3(x1)\n",
        "    x1 = LeakyReLU()(x1)\n",
        "    x1 = d4(x1)\n",
        "    x1 = LeakyReLU()(x1)\n",
        "\n",
        "    out_value = Dense(1, activation=\"linear\", name=\"value\")(x1)\n",
        "    out_policy = Dense(len(action_map_small), activation=\"softmax\", name=\"policy\")(x1)\n",
        "\n",
        "    model = Model(input1, [out_value, out_policy])\n",
        "\n",
        "    model.compile(loss={\"value\": \"mae\", \"policy\": \"sparse_categorical_crossentropy\"}, optimizer=Adam(lr),\n",
        "                  metrics={\"policy\": acc})\n",
        "    model.summary()\n",
        "\n",
        "    return model"
      ],
      "id": "PpasE4LMD_Vt"
    },
    {
      "cell_type": "code",
      "execution_count": null,
      "metadata": {
        "colab": {
          "base_uri": "https://localhost:8080/",
          "height": 953
        },
        "id": "Uc7JSa_q0NYN",
        "outputId": "199eb263-3605-4d63-bae6-fcf04248725f"
      },
      "outputs": [
        {
          "output_type": "stream",
          "name": "stdout",
          "text": [
            "Model: \"model\"\n",
            "__________________________________________________________________________________________________\n",
            " Layer (type)                   Output Shape         Param #     Connected to                     \n",
            "==================================================================================================\n",
            " input_1 (InputLayer)           [(None, 324)]        0           []                               \n",
            "                                                                                                  \n",
            " dense (Dense)                  (None, 1024)         332800      ['input_1[0][0]']                \n",
            "                                                                                                  \n",
            " leaky_re_lu (LeakyReLU)        (None, 1024)         0           ['dense[0][0]']                  \n",
            "                                                                                                  \n",
            " dense_1 (Dense)                (None, 1024)         1049600     ['leaky_re_lu[0][0]']            \n",
            "                                                                                                  \n",
            " leaky_re_lu_1 (LeakyReLU)      (None, 1024)         0           ['dense_1[0][0]']                \n",
            "                                                                                                  \n",
            " dense_2 (Dense)                (None, 1024)         1049600     ['leaky_re_lu_1[0][0]']          \n",
            "                                                                                                  \n",
            " leaky_re_lu_2 (LeakyReLU)      (None, 1024)         0           ['dense_2[0][0]']                \n",
            "                                                                                                  \n",
            " dense_3 (Dense)                (None, 50)           51250       ['leaky_re_lu_2[0][0]']          \n",
            "                                                                                                  \n",
            " leaky_re_lu_3 (LeakyReLU)      (None, 50)           0           ['dense_3[0][0]']                \n",
            "                                                                                                  \n",
            " value (Dense)                  (None, 1)            51          ['leaky_re_lu_3[0][0]']          \n",
            "                                                                                                  \n",
            " policy (Dense)                 (None, 12)           612         ['leaky_re_lu_3[0][0]']          \n",
            "                                                                                                  \n",
            "==================================================================================================\n",
            "Total params: 2,483,913\n",
            "Trainable params: 2,483,913\n",
            "Non-trainable params: 0\n",
            "__________________________________________________________________________________________________\n",
            "0\n"
          ]
        },
        {
          "output_type": "stream",
          "name": "stderr",
          "text": [
            "100%|██████████| 100/100 [00:07<00:00, 14.16it/s]\n",
            " 37%|███▋      | 923/2500 [00:34<00:59, 26.42it/s]\n"
          ]
        },
        {
          "output_type": "error",
          "ename": "KeyboardInterrupt",
          "evalue": "ignored",
          "traceback": [
            "\u001b[0;31m---------------------------------------------------------------------------\u001b[0m",
            "\u001b[0;31mKeyboardInterrupt\u001b[0m                         Traceback (most recent call last)",
            "\u001b[0;32m<ipython-input-18-afc59c449e73>\u001b[0m in \u001b[0;36m<module>\u001b[0;34m\u001b[0m\n\u001b[1;32m     31\u001b[0m \u001b[0;34m\u001b[0m\u001b[0m\n\u001b[1;32m     32\u001b[0m         \u001b[0;32mfor\u001b[0m \u001b[0mc\u001b[0m \u001b[0;32min\u001b[0m \u001b[0mtqdm\u001b[0m\u001b[0;34m(\u001b[0m\u001b[0mcubes\u001b[0m\u001b[0;34m)\u001b[0m\u001b[0;34m:\u001b[0m\u001b[0;34m\u001b[0m\u001b[0;34m\u001b[0m\u001b[0m\n\u001b[0;32m---> 33\u001b[0;31m             \u001b[0mflat_cubes\u001b[0m\u001b[0;34m,\u001b[0m \u001b[0mrewards\u001b[0m \u001b[0;34m=\u001b[0m \u001b[0mget_all_possible_actions_cube_small\u001b[0m\u001b[0;34m(\u001b[0m\u001b[0mc\u001b[0m\u001b[0;34m)\u001b[0m\u001b[0;34m\u001b[0m\u001b[0;34m\u001b[0m\u001b[0m\n\u001b[0m\u001b[1;32m     34\u001b[0m             \u001b[0mcube_next_reward\u001b[0m\u001b[0;34m.\u001b[0m\u001b[0mappend\u001b[0m\u001b[0;34m(\u001b[0m\u001b[0mrewards\u001b[0m\u001b[0;34m)\u001b[0m\u001b[0;34m\u001b[0m\u001b[0;34m\u001b[0m\u001b[0m\n\u001b[1;32m     35\u001b[0m             \u001b[0mflat_next_states\u001b[0m\u001b[0;34m.\u001b[0m\u001b[0mextend\u001b[0m\u001b[0;34m(\u001b[0m\u001b[0mflat_cubes\u001b[0m\u001b[0;34m)\u001b[0m\u001b[0;34m\u001b[0m\u001b[0;34m\u001b[0m\u001b[0m\n",
            "\u001b[0;32m<ipython-input-15-d7f006224841>\u001b[0m in \u001b[0;36mget_all_possible_actions_cube_small\u001b[0;34m(cube)\u001b[0m\n\u001b[1;32m      8\u001b[0m         \u001b[0mcube_copy\u001b[0m \u001b[0;34m=\u001b[0m \u001b[0mcube_copy\u001b[0m\u001b[0;34m(\u001b[0m\u001b[0ma\u001b[0m\u001b[0;34m)\u001b[0m\u001b[0;34m\u001b[0m\u001b[0;34m\u001b[0m\u001b[0m\n\u001b[1;32m      9\u001b[0m         \u001b[0mflat_cubes\u001b[0m\u001b[0;34m.\u001b[0m\u001b[0mappend\u001b[0m\u001b[0;34m(\u001b[0m\u001b[0mflatten_1d_b\u001b[0m\u001b[0;34m(\u001b[0m\u001b[0mcube_copy\u001b[0m\u001b[0;34m)\u001b[0m\u001b[0;34m)\u001b[0m\u001b[0;34m\u001b[0m\u001b[0;34m\u001b[0m\u001b[0m\n\u001b[0;32m---> 10\u001b[0;31m         \u001b[0mrewards\u001b[0m\u001b[0;34m.\u001b[0m\u001b[0mappend\u001b[0m\u001b[0;34m(\u001b[0m\u001b[0;36m2\u001b[0m\u001b[0;34m*\u001b[0m\u001b[0mint\u001b[0m\u001b[0;34m(\u001b[0m\u001b[0mperc_solved_cube\u001b[0m\u001b[0;34m(\u001b[0m\u001b[0mcube_copy\u001b[0m\u001b[0;34m)\u001b[0m\u001b[0;34m>\u001b[0m\u001b[0;36m0.99\u001b[0m\u001b[0;34m)\u001b[0m\u001b[0;34m-\u001b[0m\u001b[0;36m1\u001b[0m\u001b[0;34m)\u001b[0m\u001b[0;34m\u001b[0m\u001b[0;34m\u001b[0m\u001b[0m\n\u001b[0m\u001b[1;32m     11\u001b[0m \u001b[0;34m\u001b[0m\u001b[0m\n\u001b[1;32m     12\u001b[0m     \u001b[0;32mreturn\u001b[0m \u001b[0mflat_cubes\u001b[0m\u001b[0;34m,\u001b[0m \u001b[0mrewards\u001b[0m\u001b[0;34m\u001b[0m\u001b[0;34m\u001b[0m\u001b[0m\n",
            "\u001b[0;32m<ipython-input-11-8d6ade6ad5e5>\u001b[0m in \u001b[0;36mperc_solved_cube\u001b[0;34m(cube)\u001b[0m\n\u001b[1;32m      1\u001b[0m \u001b[0;32mdef\u001b[0m \u001b[0mperc_solved_cube\u001b[0m\u001b[0;34m(\u001b[0m\u001b[0mcube\u001b[0m\u001b[0;34m)\u001b[0m\u001b[0;34m:\u001b[0m\u001b[0;34m\u001b[0m\u001b[0;34m\u001b[0m\u001b[0m\n\u001b[0;32m----> 2\u001b[0;31m     \u001b[0mflat\u001b[0m \u001b[0;34m=\u001b[0m \u001b[0mflatten\u001b[0m\u001b[0;34m(\u001b[0m\u001b[0mcube\u001b[0m\u001b[0;34m)\u001b[0m\u001b[0;34m\u001b[0m\u001b[0;34m\u001b[0m\u001b[0m\n\u001b[0m\u001b[1;32m      3\u001b[0m     \u001b[0mperc_side\u001b[0m \u001b[0;34m=\u001b[0m \u001b[0;34m[\u001b[0m\u001b[0morder\u001b[0m\u001b[0;34m(\u001b[0m\u001b[0mflat\u001b[0m\u001b[0;34m[\u001b[0m\u001b[0mi\u001b[0m\u001b[0;34m:\u001b[0m\u001b[0;34m(\u001b[0m\u001b[0mi\u001b[0m \u001b[0;34m+\u001b[0m \u001b[0;36m9\u001b[0m\u001b[0;34m)\u001b[0m\u001b[0;34m]\u001b[0m\u001b[0;34m)\u001b[0m \u001b[0;32mfor\u001b[0m \u001b[0mi\u001b[0m \u001b[0;32min\u001b[0m \u001b[0mrange\u001b[0m\u001b[0;34m(\u001b[0m\u001b[0;36m0\u001b[0m\u001b[0;34m,\u001b[0m \u001b[0;36m9\u001b[0m \u001b[0;34m*\u001b[0m \u001b[0;36m6\u001b[0m\u001b[0;34m,\u001b[0m \u001b[0;36m9\u001b[0m\u001b[0;34m)\u001b[0m\u001b[0;34m]\u001b[0m\u001b[0;34m\u001b[0m\u001b[0;34m\u001b[0m\u001b[0m\n\u001b[1;32m      4\u001b[0m     \u001b[0;32mreturn\u001b[0m \u001b[0mnp\u001b[0m\u001b[0;34m.\u001b[0m\u001b[0mmean\u001b[0m\u001b[0;34m(\u001b[0m\u001b[0mperc_side\u001b[0m\u001b[0;34m)\u001b[0m\u001b[0;34m\u001b[0m\u001b[0;34m\u001b[0m\u001b[0m\n",
            "\u001b[0;32m<ipython-input-8-aa31a046d75a>\u001b[0m in \u001b[0;36mflatten\u001b[0;34m(cube)\u001b[0m\n\u001b[1;32m      1\u001b[0m \u001b[0;32mdef\u001b[0m \u001b[0mflatten\u001b[0m\u001b[0;34m(\u001b[0m\u001b[0mcube\u001b[0m\u001b[0;34m)\u001b[0m\u001b[0;34m:\u001b[0m\u001b[0;34m\u001b[0m\u001b[0;34m\u001b[0m\u001b[0m\n\u001b[0;32m----> 2\u001b[0;31m     \u001b[0msides\u001b[0m \u001b[0;34m=\u001b[0m \u001b[0;34m[\u001b[0m\u001b[0mcube\u001b[0m\u001b[0;34m.\u001b[0m\u001b[0mF\u001b[0m\u001b[0;34m,\u001b[0m \u001b[0mcube\u001b[0m\u001b[0;34m.\u001b[0m\u001b[0mB\u001b[0m\u001b[0;34m,\u001b[0m \u001b[0mcube\u001b[0m\u001b[0;34m.\u001b[0m\u001b[0mU\u001b[0m\u001b[0;34m,\u001b[0m \u001b[0mcube\u001b[0m\u001b[0;34m.\u001b[0m\u001b[0mD\u001b[0m\u001b[0;34m,\u001b[0m \u001b[0mcube\u001b[0m\u001b[0;34m.\u001b[0m\u001b[0mL\u001b[0m\u001b[0;34m,\u001b[0m \u001b[0mcube\u001b[0m\u001b[0;34m.\u001b[0m\u001b[0mR\u001b[0m\u001b[0;34m]\u001b[0m\u001b[0;34m\u001b[0m\u001b[0;34m\u001b[0m\u001b[0m\n\u001b[0m\u001b[1;32m      3\u001b[0m     \u001b[0mflat\u001b[0m \u001b[0;34m=\u001b[0m \u001b[0;34m[\u001b[0m\u001b[0;34m]\u001b[0m\u001b[0;34m\u001b[0m\u001b[0;34m\u001b[0m\u001b[0m\n\u001b[1;32m      4\u001b[0m     \u001b[0;32mfor\u001b[0m \u001b[0mx\u001b[0m \u001b[0;32min\u001b[0m \u001b[0msides\u001b[0m\u001b[0;34m:\u001b[0m\u001b[0;34m\u001b[0m\u001b[0;34m\u001b[0m\u001b[0m\n\u001b[1;32m      5\u001b[0m         \u001b[0;32mfor\u001b[0m \u001b[0mi\u001b[0m \u001b[0;32min\u001b[0m \u001b[0mrange\u001b[0m\u001b[0;34m(\u001b[0m\u001b[0;36m3\u001b[0m\u001b[0;34m)\u001b[0m\u001b[0;34m:\u001b[0m\u001b[0;34m\u001b[0m\u001b[0;34m\u001b[0m\u001b[0m\n",
            "\u001b[0;32m/usr/local/lib/python3.8/dist-packages/pycuber/cube.py\u001b[0m in \u001b[0;36m__getattr__\u001b[0;34m(self, name)\u001b[0m\n\u001b[1;32m    372\u001b[0m         \"\"\"\n\u001b[1;32m    373\u001b[0m         \u001b[0;32mif\u001b[0m \u001b[0mname\u001b[0m \u001b[0;32min\u001b[0m \u001b[0mlist\u001b[0m\u001b[0;34m(\u001b[0m\u001b[0;34m\"LUFDRB\"\u001b[0m\u001b[0;34m)\u001b[0m\u001b[0;34m:\u001b[0m\u001b[0;34m\u001b[0m\u001b[0;34m\u001b[0m\u001b[0m\n\u001b[0;32m--> 374\u001b[0;31m             \u001b[0;32mreturn\u001b[0m \u001b[0mself\u001b[0m\u001b[0;34m.\u001b[0m\u001b[0mget_face\u001b[0m\u001b[0;34m(\u001b[0m\u001b[0mname\u001b[0m\u001b[0;34m)\u001b[0m\u001b[0;34m\u001b[0m\u001b[0;34m\u001b[0m\u001b[0m\n\u001b[0m\u001b[1;32m    375\u001b[0m         \u001b[0;32melse\u001b[0m\u001b[0;34m:\u001b[0m\u001b[0;34m\u001b[0m\u001b[0;34m\u001b[0m\u001b[0m\n\u001b[1;32m    376\u001b[0m             \u001b[0;32mreturn\u001b[0m \u001b[0msuper\u001b[0m\u001b[0;34m(\u001b[0m\u001b[0mCube\u001b[0m\u001b[0;34m,\u001b[0m \u001b[0mself\u001b[0m\u001b[0;34m)\u001b[0m\u001b[0;34m.\u001b[0m\u001b[0m__getattribute__\u001b[0m\u001b[0;34m(\u001b[0m\u001b[0mname\u001b[0m\u001b[0;34m)\u001b[0m\u001b[0;34m\u001b[0m\u001b[0;34m\u001b[0m\u001b[0m\n",
            "\u001b[0;32m/usr/local/lib/python3.8/dist-packages/pycuber/cube.py\u001b[0m in \u001b[0;36mget_face\u001b[0;34m(self, face)\u001b[0m\n\u001b[1;32m    458\u001b[0m             \u001b[0;34m\"B\"\u001b[0m\u001b[0;34m:\u001b[0m \u001b[0;34m\"UDRL\"\u001b[0m\u001b[0;34m,\u001b[0m\u001b[0;34m\u001b[0m\u001b[0;34m\u001b[0m\u001b[0m\n\u001b[1;32m    459\u001b[0m         }[face]\n\u001b[0;32m--> 460\u001b[0;31m         \u001b[0;32mfor\u001b[0m \u001b[0mcubie\u001b[0m \u001b[0;32min\u001b[0m \u001b[0mself\u001b[0m\u001b[0;34m.\u001b[0m\u001b[0mat_face\u001b[0m\u001b[0;34m(\u001b[0m\u001b[0mface\u001b[0m\u001b[0;34m)\u001b[0m\u001b[0;34m:\u001b[0m\u001b[0;34m\u001b[0m\u001b[0;34m\u001b[0m\u001b[0m\n\u001b[0m\u001b[1;32m    461\u001b[0m             \u001b[0mloc\u001b[0m \u001b[0;34m=\u001b[0m \u001b[0;34m[\u001b[0m\u001b[0;32mNone\u001b[0m\u001b[0;34m,\u001b[0m \u001b[0;32mNone\u001b[0m\u001b[0;34m]\u001b[0m\u001b[0;34m\u001b[0m\u001b[0;34m\u001b[0m\u001b[0m\n\u001b[1;32m    462\u001b[0m             \u001b[0;32mfor\u001b[0m \u001b[0mf\u001b[0m \u001b[0;32min\u001b[0m \u001b[0mcubie\u001b[0m\u001b[0;34m.\u001b[0m\u001b[0mfacings\u001b[0m\u001b[0;34m:\u001b[0m\u001b[0;34m\u001b[0m\u001b[0;34m\u001b[0m\u001b[0m\n",
            "\u001b[0;32m/usr/local/lib/python3.8/dist-packages/pycuber/cube.py\u001b[0m in \u001b[0;36mat_face\u001b[0;34m(self, face)\u001b[0m\n\u001b[1;32m    411\u001b[0m         \u001b[0mFind\u001b[0m \u001b[0mall\u001b[0m \u001b[0mCubies\u001b[0m \u001b[0mwhich\u001b[0m \u001b[0mhave\u001b[0m \u001b[0ma\u001b[0m \u001b[0mSquare\u001b[0m \u001b[0mon\u001b[0m \u001b[0mspecific\u001b[0m \u001b[0mface\u001b[0m\u001b[0;34m.\u001b[0m\u001b[0;34m\u001b[0m\u001b[0;34m\u001b[0m\u001b[0m\n\u001b[1;32m    412\u001b[0m         \"\"\"\n\u001b[0;32m--> 413\u001b[0;31m         return set(\n\u001b[0m\u001b[1;32m    414\u001b[0m             \u001b[0mchild\u001b[0m \u001b[0;32mfor\u001b[0m \u001b[0mchild\u001b[0m \u001b[0;32min\u001b[0m \u001b[0mself\u001b[0m\u001b[0;34m.\u001b[0m\u001b[0mchildren\u001b[0m\u001b[0;34m\u001b[0m\u001b[0;34m\u001b[0m\u001b[0m\n\u001b[1;32m    415\u001b[0m             \u001b[0;32mif\u001b[0m \u001b[0mface\u001b[0m \u001b[0;32min\u001b[0m \u001b[0mchild\u001b[0m\u001b[0;34m.\u001b[0m\u001b[0mlocation\u001b[0m\u001b[0;34m\u001b[0m\u001b[0;34m\u001b[0m\u001b[0m\n",
            "\u001b[0;32m/usr/local/lib/python3.8/dist-packages/pycuber/cube.py\u001b[0m in \u001b[0;36m__hash__\u001b[0;34m(self)\u001b[0m\n\u001b[1;32m    135\u001b[0m             \u001b[0;32mlambda\u001b[0m \u001b[0mx\u001b[0m\u001b[0;34m,\u001b[0m \u001b[0my\u001b[0m\u001b[0;34m:\u001b[0m \u001b[0mhash\u001b[0m\u001b[0;34m(\u001b[0m\u001b[0mx\u001b[0m\u001b[0;34m)\u001b[0m \u001b[0;34m+\u001b[0m \u001b[0mhash\u001b[0m\u001b[0;34m(\u001b[0m\u001b[0my\u001b[0m\u001b[0;34m)\u001b[0m\u001b[0;34m,\u001b[0m\u001b[0;34m\u001b[0m\u001b[0;34m\u001b[0m\u001b[0m\n\u001b[1;32m    136\u001b[0m             \u001b[0mself\u001b[0m\u001b[0;34m.\u001b[0m\u001b[0mfacings\u001b[0m\u001b[0;34m.\u001b[0m\u001b[0mvalues\u001b[0m\u001b[0;34m(\u001b[0m\u001b[0;34m)\u001b[0m\u001b[0;34m,\u001b[0m\u001b[0;34m\u001b[0m\u001b[0;34m\u001b[0m\u001b[0m\n\u001b[0;32m--> 137\u001b[0;31m             \u001b[0mlist\u001b[0m\u001b[0;34m(\u001b[0m\u001b[0mself\u001b[0m\u001b[0;34m.\u001b[0m\u001b[0mfacings\u001b[0m\u001b[0;34m.\u001b[0m\u001b[0mvalues\u001b[0m\u001b[0;34m(\u001b[0m\u001b[0;34m)\u001b[0m\u001b[0;34m)\u001b[0m\u001b[0;34m[\u001b[0m\u001b[0;36m0\u001b[0m\u001b[0;34m]\u001b[0m\u001b[0;34m,\u001b[0m\u001b[0;34m\u001b[0m\u001b[0;34m\u001b[0m\u001b[0m\n\u001b[0m\u001b[1;32m    138\u001b[0m         ) // hash(self.__class__.__name__)\n\u001b[1;32m    139\u001b[0m \u001b[0;34m\u001b[0m\u001b[0m\n",
            "\u001b[0;31mKeyboardInterrupt\u001b[0m: "
          ]
        }
      ],
      "source": [
        "if __name__ == \"__main__\":\n",
        "\n",
        "    N_SAMPLES = 100\n",
        "    N_EPOCH = 100\n",
        "\n",
        "    file_path = \"auto.h5\"\n",
        "\n",
        "    checkpoint = ModelCheckpoint(file_path, monitor='val_loss', verbose=1, save_best_only=True, mode='min')\n",
        "\n",
        "    early = EarlyStopping(monitor=\"val_loss\", mode=\"min\", patience=1000)\n",
        "\n",
        "    reduce_on_plateau = ReduceLROnPlateau(monitor=\"val_loss\", mode=\"min\", factor=0.1, patience=50, min_lr=1e-8)\n",
        "\n",
        "    callbacks_list = [checkpoint, early, reduce_on_plateau]\n",
        "\n",
        "    model = get_model(lr=0.0001)\n",
        "    #model.load_weights(file_path)\n",
        "\n",
        "    for i in range(N_EPOCH):\n",
        "        print(i)\n",
        "        cubes = []\n",
        "        distance_to_solved = []\n",
        "        for j in tqdm(range(N_SAMPLES)):\n",
        "            _cubes, _distance_to_solved = gen_sequence(25)\n",
        "            cubes.extend(_cubes)\n",
        "            distance_to_solved.extend(_distance_to_solved)\n",
        "\n",
        "        cube_next_reward = []\n",
        "        flat_next_states = []\n",
        "        cube_flat = []\n",
        "\n",
        "        for c in tqdm(cubes):\n",
        "            flat_cubes, rewards = get_all_possible_actions_cube_small(c)\n",
        "            cube_next_reward.append(rewards)\n",
        "            flat_next_states.extend(flat_cubes)\n",
        "            cube_flat.append(flatten_1d_b(c))\n",
        "\n",
        "        for _ in range(20):\n",
        "\n",
        "            cube_target_value = []\n",
        "            cube_target_policy = []\n",
        "\n",
        "            next_state_value, _ = model.predict(np.array(flat_next_states), batch_size=1024)\n",
        "            next_state_value = next_state_value.ravel().tolist()\n",
        "            next_state_value = list(chunker(next_state_value, size=len(action_map_small)))\n",
        "\n",
        "            for c, rewards, values in tqdm(zip(cubes, cube_next_reward, next_state_value)):\n",
        "                r_plus_v = 0.4*np.array(rewards) + np.array(values)\n",
        "                target_v = np.max(r_plus_v)\n",
        "                target_p = np.argmax(r_plus_v)\n",
        "                cube_target_value.append(target_v)\n",
        "                cube_target_policy.append(target_p)\n",
        "\n",
        "            cube_target_value = (cube_target_value-np.mean(cube_target_value))/(np.std(cube_target_value)+0.01)\n",
        "\n",
        "            print(cube_target_policy[-30:])\n",
        "            print(cube_target_value[-30:])\n",
        "\n",
        "            sample_weights = 1. / np.array(distance_to_solved)\n",
        "            sample_weights = sample_weights * sample_weights.size / np.sum(sample_weights)\n",
        "\n",
        "            model.fit(np.array(cube_flat), [np.array(cube_target_value), np.array(cube_target_policy)[..., np.newaxis]],\n",
        "                      epochs=1, batch_size=128, sample_weight=[sample_weights, sample_weights])\n",
        "            # sample_weight=[sample_weights, sample_weights],\n",
        "\n",
        "        model.save_weights(file_path)\n"
      ],
      "id": "Uc7JSa_q0NYN"
    },
    {
      "cell_type": "code",
      "execution_count": null,
      "metadata": {
        "id": "_brldvey0Nbk"
      },
      "outputs": [],
      "source": [
        "model = get_model()\n",
        "model.load_weights('/content/auto.h5')\n",
        "sample_X, sample_Y, cubes = gen_sample(10)\n",
        "cube = cubes[0]\n",
        "cube.score = 0\n",
        "list_sequences = [[cube]]\n",
        "existing_cubes = set()\n",
        "for j in range(1000):\n",
        "\n",
        "        X = [flatten_1d_b(x[-1]) for x in list_sequences]\n",
        "\n",
        "        value, policy = model.predict(np.array(X), batch_size=1024)\n",
        "\n",
        "        new_list_sequences = []\n",
        "\n",
        "        for x, policy in zip(list_sequences, policy):\n",
        "\n",
        "            new_sequences = [x + [x[-1].copy()(action)] for action in action_map]\n",
        "\n",
        "            pred = np.argsort(policy)\n",
        "\n",
        "            cube_1 = x[-1].copy()(list(action_map.keys())[pred[-1]])\n",
        "            cube_2 = x[-1].copy()(list(action_map.keys())[pred[-2]])\n",
        "\n",
        "            new_list_sequences.append(x + [cube_1])\n",
        "            new_list_sequences.append(x + [cube_2])\n",
        "\n",
        "        print(\"new_list_sequences\", len(new_list_sequences))\n",
        "        last_states_flat = [flatten_1d_b(x[-1]) for x in new_list_sequences]\n",
        "        value, _ = model.predict(np.array(last_states_flat), batch_size=1024)\n",
        "        value = value.ravel().tolist()\n",
        "        for x, v in zip(new_list_sequences, value):\n",
        "            x[-1].score = v if str(x[-1]) not in existing_cubes else -1\n",
        "\n",
        "        new_list_sequences.sort(key=lambda x: x[-1].score , reverse=True)\n",
        "\n",
        "        new_list_sequences = new_list_sequences[:100]\n",
        "        existing_cubes.update(set([str(x[-1]) for x in new_list_sequences]))\n",
        "\n",
        "        list_sequences = new_list_sequences\n",
        "\n",
        "        list_sequences.sort(key=lambda x: perc_solved_cube(x[-1]), reverse=True)\n",
        "\n",
        "        prec = perc_solved_cube((list_sequences[0][-1]))\n",
        "\n",
        "        print(prec)\n",
        "\n",
        "        if prec == 1:\n",
        "            break\n",
        "\n",
        "print(perc_solved_cube(list_sequences[0][-1]))\n",
        "print(list_sequences[0][-1])\n",
        "\n",
        "   "
      ],
      "id": "_brldvey0Nbk"
    },
    {
      "cell_type": "code",
      "execution_count": null,
      "metadata": {
        "id": "rQTiajNm0Nek"
      },
      "outputs": [],
      "source": [],
      "id": "rQTiajNm0Nek"
    }
  ],
  "metadata": {
    "colab": {
      "provenance": []
    },
    "kernelspec": {
      "display_name": "Python 3 (ipykernel)",
      "language": "python",
      "name": "python3"
    },
    "language_info": {
      "codemirror_mode": {
        "name": "ipython",
        "version": 3
      },
      "file_extension": ".py",
      "mimetype": "text/x-python",
      "name": "python",
      "nbconvert_exporter": "python",
      "pygments_lexer": "ipython3",
      "version": "3.9.10"
    }
  },
  "nbformat": 4,
  "nbformat_minor": 5
}